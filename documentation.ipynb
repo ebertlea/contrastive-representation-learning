{
 "cells": [
  {
   "cell_type": "markdown",
   "metadata": {},
   "source": [
    "# Re-Implementation of my Master's Project"
   ]
  },
  {
   "cell_type": "markdown",
   "metadata": {},
   "source": [
    "## 1. Setting Up the Coding Environment\n"
   ]
  },
  {
   "cell_type": "markdown",
   "metadata": {},
   "source": [
    "1.1 Installing VSCode.\n",
    "\n",
    "1.2 Installing Python and useful VSCode extensions (Copilot, Jupyter, Python)\n",
    "\n",
    "1.3 Creating a remote repository in Git, cloning it locally and connecting it to VSCode.\n",
    "\n",
    "1.4 Following this tutorial: https://medium.com/@kajaani1705/a-step-by-step-guide-to-using-pytorch-with-vscode-in-jupyter-notebook-f09c427f84e4\n",
    "\n",
    "-- 1.4.1 Installing conda.\n",
    "\n",
    "-- 1.4.2 Creating a virtual environment 'cl_mnist_env'.\n",
    "\n",
    "-- 1.4.3 Activating the environment `conda activate cl_mnist_env`\n",
    "\n",
    "-- 1.4.3 Installing PyTorch into the virtual environment with conda: `conda install pytorch::pytorch torchvision torchaudio -c pytorch`\n",
    "\n",
    "-- 1.4.4"
   ]
  }
 ],
 "metadata": {
  "language_info": {
   "name": "python"
  }
 },
 "nbformat": 4,
 "nbformat_minor": 2
}
